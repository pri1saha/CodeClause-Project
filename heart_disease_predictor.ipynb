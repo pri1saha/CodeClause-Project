{
 "cells": [
  {
   "cell_type": "markdown",
   "id": "b7b65548",
   "metadata": {},
   "source": [
    "## Model Training"
   ]
  },
  {
   "cell_type": "code",
   "execution_count": 6,
   "id": "83c6b126",
   "metadata": {},
   "outputs": [
    {
     "data": {
      "text/html": [
       "<style>#sk-container-id-1 {color: black;}#sk-container-id-1 pre{padding: 0;}#sk-container-id-1 div.sk-toggleable {background-color: white;}#sk-container-id-1 label.sk-toggleable__label {cursor: pointer;display: block;width: 100%;margin-bottom: 0;padding: 0.3em;box-sizing: border-box;text-align: center;}#sk-container-id-1 label.sk-toggleable__label-arrow:before {content: \"▸\";float: left;margin-right: 0.25em;color: #696969;}#sk-container-id-1 label.sk-toggleable__label-arrow:hover:before {color: black;}#sk-container-id-1 div.sk-estimator:hover label.sk-toggleable__label-arrow:before {color: black;}#sk-container-id-1 div.sk-toggleable__content {max-height: 0;max-width: 0;overflow: hidden;text-align: left;background-color: #f0f8ff;}#sk-container-id-1 div.sk-toggleable__content pre {margin: 0.2em;color: black;border-radius: 0.25em;background-color: #f0f8ff;}#sk-container-id-1 input.sk-toggleable__control:checked~div.sk-toggleable__content {max-height: 200px;max-width: 100%;overflow: auto;}#sk-container-id-1 input.sk-toggleable__control:checked~label.sk-toggleable__label-arrow:before {content: \"▾\";}#sk-container-id-1 div.sk-estimator input.sk-toggleable__control:checked~label.sk-toggleable__label {background-color: #d4ebff;}#sk-container-id-1 div.sk-label input.sk-toggleable__control:checked~label.sk-toggleable__label {background-color: #d4ebff;}#sk-container-id-1 input.sk-hidden--visually {border: 0;clip: rect(1px 1px 1px 1px);clip: rect(1px, 1px, 1px, 1px);height: 1px;margin: -1px;overflow: hidden;padding: 0;position: absolute;width: 1px;}#sk-container-id-1 div.sk-estimator {font-family: monospace;background-color: #f0f8ff;border: 1px dotted black;border-radius: 0.25em;box-sizing: border-box;margin-bottom: 0.5em;}#sk-container-id-1 div.sk-estimator:hover {background-color: #d4ebff;}#sk-container-id-1 div.sk-parallel-item::after {content: \"\";width: 100%;border-bottom: 1px solid gray;flex-grow: 1;}#sk-container-id-1 div.sk-label:hover label.sk-toggleable__label {background-color: #d4ebff;}#sk-container-id-1 div.sk-serial::before {content: \"\";position: absolute;border-left: 1px solid gray;box-sizing: border-box;top: 0;bottom: 0;left: 50%;z-index: 0;}#sk-container-id-1 div.sk-serial {display: flex;flex-direction: column;align-items: center;background-color: white;padding-right: 0.2em;padding-left: 0.2em;position: relative;}#sk-container-id-1 div.sk-item {position: relative;z-index: 1;}#sk-container-id-1 div.sk-parallel {display: flex;align-items: stretch;justify-content: center;background-color: white;position: relative;}#sk-container-id-1 div.sk-item::before, #sk-container-id-1 div.sk-parallel-item::before {content: \"\";position: absolute;border-left: 1px solid gray;box-sizing: border-box;top: 0;bottom: 0;left: 50%;z-index: -1;}#sk-container-id-1 div.sk-parallel-item {display: flex;flex-direction: column;z-index: 1;position: relative;background-color: white;}#sk-container-id-1 div.sk-parallel-item:first-child::after {align-self: flex-end;width: 50%;}#sk-container-id-1 div.sk-parallel-item:last-child::after {align-self: flex-start;width: 50%;}#sk-container-id-1 div.sk-parallel-item:only-child::after {width: 0;}#sk-container-id-1 div.sk-dashed-wrapped {border: 1px dashed gray;margin: 0 0.4em 0.5em 0.4em;box-sizing: border-box;padding-bottom: 0.4em;background-color: white;}#sk-container-id-1 div.sk-label label {font-family: monospace;font-weight: bold;display: inline-block;line-height: 1.2em;}#sk-container-id-1 div.sk-label-container {text-align: center;}#sk-container-id-1 div.sk-container {/* jupyter's `normalize.less` sets `[hidden] { display: none; }` but bootstrap.min.css set `[hidden] { display: none !important; }` so we also need the `!important` here to be able to override the default hidden behavior on the sphinx rendered scikit-learn.org. See: https://github.com/scikit-learn/scikit-learn/issues/21755 */display: inline-block !important;position: relative;}#sk-container-id-1 div.sk-text-repr-fallback {display: none;}</style><div id=\"sk-container-id-1\" class=\"sk-top-container\"><div class=\"sk-text-repr-fallback\"><pre>RandomForestClassifier()</pre><b>In a Jupyter environment, please rerun this cell to show the HTML representation or trust the notebook. <br />On GitHub, the HTML representation is unable to render, please try loading this page with nbviewer.org.</b></div><div class=\"sk-container\" hidden><div class=\"sk-item\"><div class=\"sk-estimator sk-toggleable\"><input class=\"sk-toggleable__control sk-hidden--visually\" id=\"sk-estimator-id-1\" type=\"checkbox\" checked><label for=\"sk-estimator-id-1\" class=\"sk-toggleable__label sk-toggleable__label-arrow\">RandomForestClassifier</label><div class=\"sk-toggleable__content\"><pre>RandomForestClassifier()</pre></div></div></div></div></div>"
      ],
      "text/plain": [
       "RandomForestClassifier()"
      ]
     },
     "execution_count": 6,
     "metadata": {},
     "output_type": "execute_result"
    }
   ],
   "source": [
    "import pandas as pd\n",
    "import numpy as np\n",
    "import matplotlib.pyplot as plt\n",
    "%matplotlib inline\n",
    "import seaborn as sns\n",
    "\n",
    "data=pd.read_csv(\"C:\\\\Users\\\\Priyansu\\\\Desktop\\\\CodeClauseProject\\\\heart.csv\")\n",
    "from sklearn.model_selection import train_test_split\n",
    "x=data.drop(columns=['target']).values\n",
    "y=data.target.values\n",
    "x_train,x_test,y_train,y_test=train_test_split(x,y,test_size=0.2,random_state=1)\n",
    "\n",
    "from sklearn.ensemble import RandomForestClassifier\n",
    "rfc=RandomForestClassifier(n_estimators=100)\n",
    "rfc.fit(x_train,y_train)"
   ]
  },
  {
   "cell_type": "markdown",
   "id": "b96f8cd1",
   "metadata": {},
   "source": [
    "## Model Evaluation"
   ]
  },
  {
   "cell_type": "code",
   "execution_count": 7,
   "id": "c9b020f9",
   "metadata": {},
   "outputs": [
    {
     "name": "stdout",
     "output_type": "stream",
     "text": [
      "0.7868852459016393\n"
     ]
    }
   ],
   "source": [
    "from sklearn.metrics import accuracy_score, confusion_matrix, classification_report\n",
    "\n",
    "y_pred_test = rfc.predict(x_test)\n",
    "\n",
    "print(accuracy_score(y_test, y_pred_test))"
   ]
  },
  {
   "cell_type": "code",
   "execution_count": 8,
   "id": "ac0228cf",
   "metadata": {},
   "outputs": [
    {
     "name": "stdout",
     "output_type": "stream",
     "text": [
      "[[21  9]\n",
      " [ 4 27]]\n"
     ]
    }
   ],
   "source": [
    "print(confusion_matrix(y_test, y_pred_test))"
   ]
  },
  {
   "cell_type": "code",
   "execution_count": 9,
   "id": "a781e522",
   "metadata": {},
   "outputs": [
    {
     "name": "stdout",
     "output_type": "stream",
     "text": [
      "              precision    recall  f1-score   support\n",
      "\n",
      "           0       0.84      0.70      0.76        30\n",
      "           1       0.75      0.87      0.81        31\n",
      "\n",
      "    accuracy                           0.79        61\n",
      "   macro avg       0.79      0.79      0.78        61\n",
      "weighted avg       0.79      0.79      0.79        61\n",
      "\n"
     ]
    }
   ],
   "source": [
    "print(classification_report(y_test, y_pred_test))"
   ]
  },
  {
   "cell_type": "markdown",
   "id": "619d847e",
   "metadata": {},
   "source": [
    "## GUI"
   ]
  },
  {
   "cell_type": "code",
   "execution_count": 10,
   "id": "6b113e2a",
   "metadata": {},
   "outputs": [],
   "source": [
    "from tkinter import *\n",
    "from tkinter.ttk import * \n",
    "import tkinter as tk\n",
    "from functools import partial\n",
    "import  tkinter.font as font\n",
    "\n",
    "\n",
    "def cal(age,sex,cp,restbps,chol,fbs,thalach,exang,slope,oldpeak,restecg,ca,nfr):\n",
    "    b=(age.get())\n",
    "    c=(sex.get())\n",
    "    d=(cp.get())\n",
    "    e=(restbps.get())\n",
    "    f=(chol.get())\n",
    "    g=(fbs.get())\n",
    "    h=(thalach.get())\n",
    "    i=(exang.get())\n",
    "    j=(slope.get())\n",
    "    k=(oldpeak.get())\n",
    "    l=(restecg.get())\n",
    "    m=(ca.get())\n",
    "    n=(nfr.get())\n",
    "    num1=int(b)\n",
    "    num2=int(c)\n",
    "    num3=int(d)\n",
    "    num4=int(e)\n",
    "    num5=int(f)\n",
    "    num6=int(g)\n",
    "    num7=int(h)\n",
    "    num8=int(i)\n",
    "    num9=int(j)\n",
    "    num10=float(k)\n",
    "    num11=int(l)\n",
    "    num12=int(m)\n",
    "    num13=int(n)\n",
    "    \n",
    "    input=[[num1,num2,num3,num4,num5,num6,num7,num8,num9,num10,num11,num12,num13]]\n",
    "    y_pred=rfc.predict(input)\n",
    "    if y_pred==1:\n",
    "        risk_lable=tk.Label(top,text=\"HIGH \",fg=\"red\",font=(None,15)).place(x=860,y=400)\n",
    "    else:\n",
    "        risk_label=tk.Label(top,text=\"LESS\",fg=\"green\",font=(None,15)).place(x=860,y=400)\n",
    "    return\n",
    "\n",
    "  \n",
    "class GFG: \n",
    "    def __init__(self, master = None): \n",
    "        self.master = master \n",
    "  \n",
    "        # Calls create method of class GFG \n",
    "        self.create() \n",
    "  \n",
    "    def create(self): \n",
    "  \n",
    "        # This creates a object of class canvas \n",
    "        self.canvas = Canvas(self.master) \n",
    "  \n",
    "        # This creates a line of length 200 (straight horizontal line) \n",
    "        self.canvas.create_line(420, 60, 420, 550) \n",
    "        self.canvas.create_line(5,60, 1100, 60) \n",
    "  \n",
    "      \n",
    "          \n",
    "        # This pack the canvas to the main window and make it expandable \n",
    "        self.canvas.pack(fill = BOTH, expand = True) \n",
    "  \n",
    "if __name__ == \"__main__\": \n",
    "    top=tk.Tk()\n",
    "    geeks = GFG(top) \n",
    "    top.geometry('1100x550+100+60')\n",
    "    top.title(\"Heart Disease Predictor\")\n",
    "    myfont=font.Font(size=30)\n",
    "    \n",
    "    \n",
    "    age1=tk.StringVar()\n",
    "    sex2=tk.StringVar()\n",
    "    cp3=tk.StringVar()\n",
    "    restbps4=tk.StringVar()\n",
    "    chol5=tk.StringVar()\n",
    "    fbs6=tk.StringVar()\n",
    "    thalach7=tk.StringVar()\n",
    "    exang8=tk.StringVar()\n",
    "    slope9=tk.StringVar()\n",
    "    oldpeak10=tk.StringVar()\n",
    "    restecg11=tk.StringVar()\n",
    "    ca12=tk.StringVar()\n",
    "    nfr13=tk.StringVar()\n",
    "    \n",
    "    \n",
    "    #label=tk.LabelFrame(top,text=\"Heart Disease Predictor\",font=(None, 20,)).pack(fill=\"both\",expand=\"yes\")\n",
    "    label_top=tk.Label(top,text=\"Heart Disease Predictor\",font=(None,25),fg=\"red\").place(x=400,y=10)\n",
    "    l1=tk.Label(top,text=\"1. Age\",fg=\"blue\",font=(\"Courier\",10)).place(x=10,y=100)\n",
    "    l2=tk.Label(top,text=\"2. Sex(male=1/female=0)\",fg=\"blue\",font=(\"Courier\",10)).place(x=10,y=120)\n",
    "    l3=tk.Label(top,text=\"3. Chest pain(cp)\",fg=\"blue\",font=(\"Courier\",10)).place(x=10,y=140)\n",
    "    l4=tk.Label(top,text=\"4. Resting blood pressure(restbps)\",fg=\"blue\",font=(\"Courier\",10)).place(x=10,y=160)\n",
    "    l5=tk.Label(top,text=\"5. Serum cholestoral(chol)\",fg=\"blue\",font=(\"Courier\",10)).place(x=10,y=180)\n",
    "    l6=tk.Label(top,text=\"6. Fasting blood sugar(fbs) \",fg=\"blue\",font=(\"Courier\",10)).place(x=10,y=200)\n",
    "    l7=tk.Label(top,text=\"7. Maximum heart rate achieved(thalach) \",fg=\"blue\",font=(\"Courier\",10)).place(x=10,y=220)\n",
    "    l8=tk.Label(top,text=\"8. Exercise induced angina(exang)\",fg=\"blue\",font=(\"Courier\",10)).place(x=10,y=240)\n",
    "    l9=tk.Label(top,text=\"9. Exercise ST segment(slope)\",fg=\"blue\",font=(\"Courier\",10)).place(x=10,y=260)\n",
    "    l10=tk.Label(top,text=\"10. Exercise relative to rest(oldpeak)\",fg=\"blue\",font=(\"Courier\",10)).place(x=10,y=280)\n",
    "    l11=tk.Label(top,text=\"11. Number of major vessels(ca)\",fg=\"blue\",font=(\"Courier\",10)).place(x=10,y=300)\n",
    "    l12=tk.Label(top,text=\"12. Electrocardiographic results(restECG)\",fg=\"blue\",font=(\"Courier\",10)).place(x=10,y=320)\n",
    "    l13=tk.Label(top,text=\"13. Normal(1),Fixed defect(2)\",fg=\"blue\",font=(\"Courier\",10)).place(x=10,y=340)\n",
    "    l14=tk.Label(top,text=\"    Reversable defect(3)(NFR)\",fg=\"blue\",font=(\"Courier\",10)).place(x=10,y=360)\n",
    "    \n",
    "    risk=tk.Label(top,text=\"Risk : \",fg=\"red\",font=(None,15)).place(x=800,y=400)\n",
    "        \n",
    "    age=tk.Label(top,text=\"Age\",fg=\"black\",font=(None,13)).place(x=440,y=100)\n",
    "    ageE=tk.Entry(top,textvariable=age1).place(x=520,y=100,height=30,width=100)\n",
    "    \n",
    "    \n",
    "    cp=tk.Label(top,text=\"Cp\",fg=\"black\",font=(None,13)).place(x=440,y=140)\n",
    "    cpE=tk.Entry(top,textvariable=cp3).place(x=520,y=140,height=30,width=100)\n",
    "\n",
    "    restbps=tk.Label(top,text=\"Restbps\",fg=\"black\",font=(None,13)).place(x=440,y=180)\n",
    "    restbpsE=tk.Entry(top,textvariable=restbps4).place(x=520,y=180,height=30,width=100)\n",
    "    \n",
    "    chol=tk.Label(top,text=\"Chol\",fg=\"black\",font=(None,13)).place(x=440,y=340)\n",
    "    cholE=tk.Entry(top,textvariable=chol5).place(x=520,y=340,height=30,width=100)\n",
    "\n",
    "    fbs=tk.Label(top,text=\"Fbs\",fg=\"black\",font=(None,13)).place(x=440,y=220)\n",
    "    fbsE=tk.Entry(top,textvariable=fbs6).place(x=520,y=220,height=30,width=100)\n",
    "    \n",
    "    thalach=tk.Label(top,text=\"Thalach\",fg=\"black\",font=(None,13)).place(x=440,y=260)\n",
    "    thalachE=tk.Entry(top,textvariable=thalach7).place(x=520,y=260,height=30,width=100)\n",
    "\n",
    "    sex=tk.Label(top,text=\"Sex\",fg=\"black\",font=(None,13)).place(x=440,y=300)\n",
    "    sexE=tk.Entry(top,textvariable=sex2).place(x=520,y=300,height=30,width=100)\n",
    "    \n",
    "    exang=tk.Label(top,text=\"Exang\",fg=\"black\",font=(None,13)).place(x=800,y=100)\n",
    "    exangE=tk.Entry(top,textvariable=exang8).place(x=900,y=100,height=30,width=100)\n",
    "    \n",
    "    slope=tk.Label(top,text=\"Slope\",fg=\"black\",font=(None,13)).place(x=800,y=140)\n",
    "    slopeE=tk.Entry(top,textvariable=slope9).place(x=900,y=140,height=30,width=100)\n",
    "\n",
    "    oldpeak=tk.Label(top,text=\"Oldpeak\",fg=\"black\",font=(None,13)).place(x=800,y=180)\n",
    "    oldpeakE=tk.Entry(top,textvariable=oldpeak10).place(x=900,y=180,height=30,width=100)\n",
    "    \n",
    "    ca=tk.Label(top,text=\"Ca\",fg=\"black\",font=(None,13)).place(x=800,y=220)\n",
    "    caE=tk.Entry(top,textvariable=ca12).place(x=900,y=220,height=30,width=100)\n",
    "\n",
    "    restEcg=tk.Label(top,text=\"RestECG\",fg=\"black\",font=(None,13)).place(x=800,y=260)\n",
    "    restEcgE=tk.Entry(top,textvariable=restecg11).place(x=900,y=260,height=30,width=100)\n",
    "    \n",
    "    nfr=tk.Label(top,text=\"NFR\",fg=\"black\",font=(None,13)).place(x=800,y=300)\n",
    "    nfrE=tk.Entry(top,textvariable=nfr13).place(x=900,y=300,height=30,width=100)\n",
    "                      \n",
    "            ## making partial function\n",
    "    cal=partial(cal,age1,sex2,cp3,restbps4,chol5,fbs6,thalach7,exang8,slope9,oldpeak10,restecg11,ca12,nfr13)\n",
    "                      \n",
    "\n",
    "    submit=tk.Button(top,text=\"Submit\",font=(None,12),fg=\"white\",bg=\"blue\",activeforeground=\"black\",activebackground=\"orange\",command=cal).place(x=440,y=400)\n",
    "\n",
    "    \n",
    "    top.mainloop()"
   ]
  }
 ],
 "metadata": {
  "kernelspec": {
   "display_name": "Python 3 (ipykernel)",
   "language": "python",
   "name": "python3"
  },
  "language_info": {
   "codemirror_mode": {
    "name": "ipython",
    "version": 3
   },
   "file_extension": ".py",
   "mimetype": "text/x-python",
   "name": "python",
   "nbconvert_exporter": "python",
   "pygments_lexer": "ipython3",
   "version": "3.11.1"
  }
 },
 "nbformat": 4,
 "nbformat_minor": 5
}
